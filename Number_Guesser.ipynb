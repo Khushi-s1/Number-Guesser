{
  "nbformat": 4,
  "nbformat_minor": 0,
  "metadata": {
    "colab": {
      "provenance": []
    },
    "kernelspec": {
      "name": "python3",
      "display_name": "Python 3"
    },
    "language_info": {
      "name": "python"
    }
  },
  "cells": [
    {
      "cell_type": "markdown",
      "source": [
        "Level-2 Task-2 Number Guesser\n",
        "\n",
        "Create a number guessing game where the program generates a random number between a specified range, and the user tries to guess it."
      ],
      "metadata": {
        "id": "XOjsizFiBAiE"
      }
    },
    {
      "cell_type": "code",
      "execution_count": 1,
      "metadata": {
        "id": "RmPazHNy7j1U"
      },
      "outputs": [],
      "source": [
        "import random"
      ]
    },
    {
      "cell_type": "code",
      "source": [
        "def guess_number():\n",
        "    lower_bound = 1\n",
        "    upper_bound = 100\n",
        "    secret_number = random.randint(lower_bound, upper_bound)\n",
        "\n",
        "    print(f\"Guess the secret number between {lower_bound} and {upper_bound}\")\n",
        "\n",
        "    while True:\n",
        "        try:\n",
        "            user_guess = int(input(\"Enter your guess: \"))\n",
        "\n",
        "            if user_guess < lower_bound or user_guess > upper_bound:\n",
        "                print(f\"Please enter a number between {lower_bound} and {upper_bound}.\")\n",
        "                continue\n",
        "\n",
        "            if user_guess < secret_number:\n",
        "                print(\"Too low! Try again.\")\n",
        "            elif user_guess > secret_number:\n",
        "                print(\"Too high! Try again.\")\n",
        "            else:\n",
        "                print(f\"Congratulations! {secret_number} is the correct number.\")\n",
        "                break\n",
        "\n",
        "        except ValueError:\n",
        "            print(\"Invalid input. Please enter a valid number.\")\n",
        "\n",
        "guess_number()"
      ],
      "metadata": {
        "colab": {
          "base_uri": "https://localhost:8080/"
        },
        "id": "hBYVlyAZ94B5",
        "outputId": "66efb010-ca10-496c-e3c1-66ed1c64ff28"
      },
      "execution_count": 2,
      "outputs": [
        {
          "output_type": "stream",
          "name": "stdout",
          "text": [
            "Guess the secret number between 1 and 100\n",
            "Enter your guess: 50\n",
            "Too low! Try again.\n",
            "Enter your guess: 70\n",
            "Too low! Try again.\n",
            "Enter your guess: 90\n",
            "Too high! Try again.\n",
            "Enter your guess: 80\n",
            "Too low! Try again.\n",
            "Enter your guess: 85\n",
            "Congratulations! 85 is the correct number.\n"
          ]
        }
      ]
    }
  ]
}